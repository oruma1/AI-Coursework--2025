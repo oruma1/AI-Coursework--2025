{
  "nbformat": 4,
  "nbformat_minor": 0,
  "metadata": {
    "colab": {
      "provenance": [],
      "authorship_tag": "ABX9TyOO9r1lNc/pjikityU7aXeF",
      "include_colab_link": true
    },
    "kernelspec": {
      "name": "python3",
      "display_name": "Python 3"
    },
    "language_info": {
      "name": "python"
    }
  },
  "cells": [
    {
      "cell_type": "markdown",
      "metadata": {
        "id": "view-in-github",
        "colab_type": "text"
      },
      "source": [
        "<a href=\"https://colab.research.google.com/github/oruma1/AI-Coursework--2025/blob/main/python_refresher.ipynb\" target=\"_parent\"><img src=\"https://colab.research.google.com/assets/colab-badge.svg\" alt=\"Open In Colab\"/></a>"
      ]
    },
    {
      "cell_type": "code",
      "execution_count": 7,
      "metadata": {
        "id": "R5D6HYO_bQpL",
        "colab": {
          "base_uri": "https://localhost:8080/"
        },
        "outputId": "40abd60a-81dc-44cf-a1d9-3ac06635b1f2"
      },
      "outputs": [
        {
          "output_type": "stream",
          "name": "stdout",
          "text": [
            "Enter the number of days: 3\n",
            "There are 259200 seconds in 3 days.\n"
          ]
        }
      ],
      "source": [
        "# Ask the user for the number of days\n",
        "days = int(input(\"Enter the number of days: \"))\n",
        "\n",
        "# Calculate the number of seconds\n",
        "seconds = days * 24 * 60 * 60\n",
        "\n",
        "# Print the result\n",
        "print(f\"There are {seconds} seconds in {days} days.\")"
      ]
    },
    {
      "cell_type": "code",
      "source": [
        "#program to calculate the volume of a sphere\n",
        "\n",
        "#Initialize input\n",
        "\n",
        "radius = float(input(\"Enter the radius of the sphere:\"))\n",
        "\n",
        "# volume = 4/3 * pi * r^3\n",
        "volume = (4/3)*3.14159*(radius * radius * radius)\n",
        "\n",
        "#Display the result\n",
        "print (\"The volume of the sphere is:\", volume)\n",
        "\n"
      ],
      "metadata": {
        "colab": {
          "base_uri": "https://localhost:8080/"
        },
        "id": "q6lPkNjwKwiU",
        "outputId": "bff229cd-fd17-4214-ddf7-8457adbf7153"
      },
      "execution_count": 8,
      "outputs": [
        {
          "output_type": "stream",
          "name": "stdout",
          "text": [
            "Enter the radius of the sphere:3\n",
            "The volume of the sphere is: 113.09723999999999\n"
          ]
        }
      ]
    },
    {
      "cell_type": "code",
      "source": [
        "# Function to compute area of a square\n",
        "def compute_area(length):\n",
        "    return side ** 2\n",
        "\n",
        "# Function to compute perimeter of a square\n",
        "def compute_perimeter(length):\n",
        "    return 4 * side\n",
        "\n",
        "# Main program\n",
        "length = float(input(\"Enter the length of the square: \"))\n",
        "\n",
        "area = compute_area(length)\n",
        "perimeter = compute_perimeter(length)\n",
        "\n",
        "print(f\"Area of the square: {area}\")\n",
        "print(f\"Perimeter of the square: {perimeter}\")\n"
      ],
      "metadata": {
        "colab": {
          "base_uri": "https://localhost:8080/"
        },
        "id": "P0ZKr3t3Mh-j",
        "outputId": "beca7f85-ec76-48c5-daaa-31802e333871"
      },
      "execution_count": 9,
      "outputs": [
        {
          "output_type": "stream",
          "name": "stdout",
          "text": [
            "Enter the length of the square: 3\n",
            "Area of the square: 16.0\n",
            "Perimeter of the square: 16.0\n"
          ]
        }
      ]
    },
    {
      "cell_type": "code",
      "source": [
        "# Function to check if a character is uppercase, lowercase, digit, or special character\n",
        "def check_character(ch):\n",
        "    if ch.isupper():\n",
        "        return \"The character is UPPERCASE.\"\n",
        "    elif ch.islower():\n",
        "        return \"The character is lowercase.\"\n",
        "    elif ch.isdigit():\n",
        "        return \"The character is a DIGIT.\"\n",
        "    else:\n",
        "        return \"The character is a SPECIAL CHARACTER.\"\n",
        "\n",
        "# Main program\n",
        "char = input(\"Enter a character: \")\n",
        "\n",
        "# Validate input length\n",
        "if len(char) == 1:\n",
        "    print(check_character(char))\n",
        "else:\n",
        "    print(\"Please enter only ONE character.\")\n"
      ],
      "metadata": {
        "colab": {
          "base_uri": "https://localhost:8080/"
        },
        "id": "vypJWDU4NuBh",
        "outputId": "ecce42c9-502c-4c13-91f7-db27b23cb7f9"
      },
      "execution_count": 10,
      "outputs": [
        {
          "output_type": "stream",
          "name": "stdout",
          "text": [
            "Enter a character: 3\n",
            "The character is a DIGIT.\n"
          ]
        }
      ]
    },
    {
      "cell_type": "code",
      "source": [
        "# Program to collect 5 values and calculate the average\n",
        "\n",
        "#Empty list to store values\n",
        "values = []\n",
        "\n",
        "#Loop to get 5 values from the user\n",
        "\n",
        "for i in range(5):\n",
        "    while True:  # keep asking until user gives a number\n",
        "        try:\n",
        "            num = float(input(f\"Enter value {i+1}: \"))\n",
        "            values.append(num)\n",
        "            break\n",
        "        except ValueError:\n",
        "            print(\"Invalid input. Please enter a number.\")\n",
        "\n",
        "#calculate average\n",
        "\n",
        "average = sum(values) / len(values)\n",
        "\n",
        "#output\n",
        "\n",
        "print(\"\\nValues entered:\", values)\n",
        "print(\"Average of the values:\", round(average, 2))\n"
      ],
      "metadata": {
        "colab": {
          "base_uri": "https://localhost:8080/"
        },
        "id": "_Df3agjGOgtq",
        "outputId": "1e83fe33-7c75-42f5-c8fe-4eabcaec6a48"
      },
      "execution_count": 11,
      "outputs": [
        {
          "output_type": "stream",
          "name": "stdout",
          "text": [
            "Enter value 1: 3\n",
            "Enter value 2: 3\n",
            "Enter value 3: 2\n",
            "Enter value 4: 1\n",
            "Enter value 5: 4\n",
            "\n",
            "Values entered: [3.0, 3.0, 2.0, 1.0, 4.0]\n",
            "Average of the values: 2.6\n"
          ]
        }
      ]
    }
  ]
}