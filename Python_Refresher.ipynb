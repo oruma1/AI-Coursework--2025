{
  "nbformat": 4,
  "nbformat_minor": 0,
  "metadata": {
    "colab": {
      "provenance": [],
      "authorship_tag": "ABX9TyOyG5ejtKcbTrtQOwrRF3ij",
      "include_colab_link": true
    },
    "kernelspec": {
      "name": "python3",
      "display_name": "Python 3"
    },
    "language_info": {
      "name": "python"
    }
  },
  "cells": [
    {
      "cell_type": "markdown",
      "metadata": {
        "id": "view-in-github",
        "colab_type": "text"
      },
      "source": [
        "<a href=\"https://colab.research.google.com/github/oruma1/AI-Coursework--2025/blob/main/Python_Refresher.ipynb\" target=\"_parent\"><img src=\"https://colab.research.google.com/assets/colab-badge.svg\" alt=\"Open In Colab\"/></a>"
      ]
    },
    {
      "cell_type": "code",
      "execution_count": 1,
      "metadata": {
        "id": "R5D6HYO_bQpL",
        "colab": {
          "base_uri": "https://localhost:8080/"
        },
        "outputId": "314ca826-6a82-4eea-e929-7efd7211db0f"
      },
      "outputs": [
        {
          "output_type": "stream",
          "name": "stdout",
          "text": [
            "Enter the number of days: 65\n",
            "There are 5616000 seconds in 65 days.\n"
          ]
        }
      ],
      "source": [
        "# Ask the user for the number of days\n",
        "days = int(input(\"Enter the number of days: \"))\n",
        "\n",
        "# Calculate the number of seconds\n",
        "seconds = days * 24 * 60 * 60\n",
        "\n",
        "# Print the result\n",
        "print(f\"There are {seconds} seconds in {days} days.\")"
      ]
    }
  ]
}